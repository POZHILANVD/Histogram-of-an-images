{
 "cells": [
  {
   "cell_type": "code",
   "execution_count": null,
   "id": "7b55de6c",
   "metadata": {},
   "outputs": [],
   "source": [
    "\n",
    "# Developed By: POZHILAN V D\n",
    "# Register Number: 212223240118\n",
    "\n",
    "import cv2\n",
    "import matplotlib.pyplot as plt\n",
    "from google.colab.patches import cv2_imshow\n",
    "\n",
    "gray_image = cv2.imread('/content/grayscale-photo-of-dog-lying-on-floor_800.jpg')\n",
    "color_image = cv2.imread('/content/baby-kittens-in-a-group_800.jpg')\n",
    "# Resize the images\n",
    "resized_gray_image = cv2.resize(gray_image, (400, 300)) # Example size, adjust as needed\n",
    "resized_color_image = cv2.resize(color_image, (400, 300)) # Example size, adjust as needed\n",
    "cv2_imshow(resized_gray_image)\n",
    "cv2_imshow(resized_color_image)\n",
    "\n",
    "import numpy as np\n",
    "gray_image=cv2.imread('/content/grayscale-photo-of-dog-lying-on-floor_800.jpg')\n",
    "import matplotlib.pyplot as plt \n",
    "gray_hist=cv2.calcHist(gray_image,[0],None,[255],[0,255])\n",
    "plt.figure()\n",
    "plt.imshow(gray_image)\n",
    "plt.show()\n",
    "plt.title(\"Histogram\")\n",
    "plt.xlabel(\"Grayscale value\")\n",
    "plt.ylabel(\"pixel count\")\n",
    "plt.stem(gray_hist)\n",
    "plt.show()\n",
    "\n",
    "import numpy as np\n",
    "color_image=cv2.imread('/content/baby-kittens-in-a-group_800.jpg')\n",
    "import matplotlib.pyplot as plt \n",
    "color_hist=cv2.calcHist(color_image,[0],None,[255],[0,255])\n",
    "plt.figure()\n",
    "plt.imshow(color_image)\n",
    "plt.show()\n",
    "plt.title(\"Histogram\")\n",
    "plt.xlabel(\"Colorscale value\")\n",
    "plt.ylabel(\"pixel count\")\n",
    "plt.stem(color_hist)\n",
    "plt.show()\n",
    "\n",
    "import cv2\n",
    "from google.colab.patches import cv2_imshow\n",
    "\n",
    "gray_image = cv2.imread(\"/content/grayscale-photo-of-dog-lying-on-floor_800.jpg\",0)\n",
    "cv2_imshow(gray_image)\n",
    "equ = cv2.equalizeHist(gray_image)\n",
    "cv2_imshow(equ)\n",
    "\n"
   ]
  }
 ],
 "metadata": {
  "kernelspec": {
   "display_name": "Python 3 (ipykernel)",
   "language": "python",
   "name": "python3"
  },
  "language_info": {
   "codemirror_mode": {
    "name": "ipython",
    "version": 3
   },
   "file_extension": ".py",
   "mimetype": "text/x-python",
   "name": "python",
   "nbconvert_exporter": "python",
   "pygments_lexer": "ipython3",
   "version": "3.11.3"
  }
 },
 "nbformat": 4,
 "nbformat_minor": 5
}
